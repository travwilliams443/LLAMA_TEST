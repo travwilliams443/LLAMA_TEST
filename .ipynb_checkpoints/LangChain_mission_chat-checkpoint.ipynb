{
 "cells": [
  {
   "cell_type": "code",
   "execution_count": 18,
   "id": "46fe014e-109e-4596-93c2-0ab18e5677f6",
   "metadata": {},
   "outputs": [],
   "source": [
    "from langchain.document_loaders import UnstructuredURLLoader\n",
    "from langchain.text_splitter import RecursiveCharacterTextSplitter, HTMLHeaderTextSplitter\n",
    "from langchain_openai import OpenAIEmbeddings\n",
    "from langchain_chroma import Chroma"
   ]
  },
  {
   "cell_type": "code",
   "execution_count": 4,
   "id": "ff1fddab-da56-43ba-bdd2-ddddb89f95e2",
   "metadata": {},
   "outputs": [],
   "source": [
    "# List of URLs to scrape\n",
    "urls = [\n",
    "    \"https://deusex.fandom.com/wiki/Deus_Ex_1st_Mission:_Liberty_Island\",\n",
    "    #\"https://deusex.fandom.com/wiki/Deus_Ex_2nd_Mission:_Battery_Park,_Hell%27s_Kitchen,_and_Warehouse_District\",\n",
    "    #\"https://deusex.fandom.com/wiki/Deus_Ex_3rd_Mission:_Brooklyn_Bridge_Station,_Mole_Tunnels,_and_LaGuardia_Airport\",\n",
    "    #\"https://deusex.fandom.com/wiki/Deus_Ex_4th_Mission:_Hell%27s_Kitchen_(Second_Visit)_and_NSF_Headquarters\",\n",
    "    #\"https://deusex.fandom.com/wiki/Deus_Ex_5th_Mission:_Secret_MJ12_Facility_and_UNATCO_Headquarters\",\n",
    "    #\"https://deusex.fandom.com/wiki/Deus_Ex_6th_Mission:_Hong_Kong\"\n",
    "]"
   ]
  },
  {
   "cell_type": "code",
   "execution_count": 5,
   "id": "9051ab25-9c79-4d7d-9b56-ec1e7f3c46af",
   "metadata": {},
   "outputs": [],
   "source": [
    "headers_to_split_on = [\n",
    "    (\"h1\", \"Header 1\"),\n",
    "    (\"h2\", \"Header 2\"),\n",
    "    (\"h3\", \"Header 3\"),\n",
    "]"
   ]
  },
  {
   "cell_type": "code",
   "execution_count": 6,
   "id": "b9ac06cb-0943-43c4-8009-d892b2ab21d6",
   "metadata": {},
   "outputs": [],
   "source": [
    "html_splitter = HTMLHeaderTextSplitter(\n",
    "    headers_to_split_on,\n",
    "    return_each_element=False,\n",
    ")"
   ]
  },
  {
   "cell_type": "code",
   "execution_count": 7,
   "id": "83f5e6b7-9c5e-4637-a057-1684b832c870",
   "metadata": {},
   "outputs": [],
   "source": [
    "docs = []\n",
    "\n",
    "for u in urls:\n",
    "    splits = html_splitter.split_text_from_url(u)\n",
    "    for split in splits:\n",
    "        split.metadata['url'] = u\n",
    "    docs.extend(splits)"
   ]
  },
  {
   "cell_type": "code",
   "execution_count": 8,
   "id": "b7ac2f2b-203d-4b18-8b6e-4ab194206ea1",
   "metadata": {},
   "outputs": [
    {
     "name": "stdout",
     "output_type": "stream",
     "text": [
      "{'url': 'https://deusex.fandom.com/wiki/Deus_Ex_1st_Mission:_Liberty_Island'} \n",
      "\n",
      "{'Header 2': '1st Mission', 'url': 'https://deusex.fandom.com/wiki/Deus_Ex_1st_Mission:_Liberty_Island'} \n",
      "\n",
      "{'Header 2': '1st Mission', 'Header 3': 'Location', 'url': 'https://deusex.fandom.com/wiki/Deus_Ex_1st_Mission:_Liberty_Island'} \n",
      "\n",
      "{'Header 2': '1st Mission', 'url': 'https://deusex.fandom.com/wiki/Deus_Ex_1st_Mission:_Liberty_Island'} \n",
      "\n",
      "{'Header 2': '1st Mission', 'Header 3': 'Next', 'url': 'https://deusex.fandom.com/wiki/Deus_Ex_1st_Mission:_Liberty_Island'} \n",
      "\n",
      "{'Header 2': '1st Mission', 'url': 'https://deusex.fandom.com/wiki/Deus_Ex_1st_Mission:_Liberty_Island'} \n",
      "\n",
      "{'Header 2': '1st Mission', 'Header 3': 'Previous', 'url': 'https://deusex.fandom.com/wiki/Deus_Ex_1st_Mission:_Liberty_Island'} \n",
      "\n",
      "{'Header 2': 'Additional Information', 'url': 'https://deusex.fandom.com/wiki/Deus_Ex_1st_Mission:_Liberty_Island'} \n",
      "\n",
      "{'Header 2': 'Additional Information', 'Header 3': 'Mission Name in Official Guide', 'url': 'https://deusex.fandom.com/wiki/Deus_Ex_1st_Mission:_Liberty_Island'} \n",
      "\n",
      "{'Header 2': 'Additional Information', 'url': 'https://deusex.fandom.com/wiki/Deus_Ex_1st_Mission:_Liberty_Island'} \n",
      "\n",
      "{'Header 2': 'Additional Information', 'Header 3': 'Mission Number in Game Data', 'url': 'https://deusex.fandom.com/wiki/Deus_Ex_1st_Mission:_Liberty_Island'} \n",
      "\n",
      "{'url': 'https://deusex.fandom.com/wiki/Deus_Ex_1st_Mission:_Liberty_Island'} \n",
      "\n",
      "{'Header 2': 'Collectibles[]', 'Header 3': 'Augmentation canisters[]', 'url': 'https://deusex.fandom.com/wiki/Deus_Ex_1st_Mission:_Liberty_Island'} \n",
      "\n",
      "{'Header 2': 'Collectibles[]', 'Header 3': 'Weapon modifications[]', 'url': 'https://deusex.fandom.com/wiki/Deus_Ex_1st_Mission:_Liberty_Island'} \n",
      "\n",
      "{'Header 2': 'Maps[]', 'url': 'https://deusex.fandom.com/wiki/Deus_Ex_1st_Mission:_Liberty_Island'} \n",
      "\n",
      "{'Header 2': 'Brief walkthrough[]', 'url': 'https://deusex.fandom.com/wiki/Deus_Ex_1st_Mission:_Liberty_Island'} \n",
      "\n",
      "{'Header 2': 'Detailed walkthrough[]', 'Header 3': 'South Dock[]', 'url': 'https://deusex.fandom.com/wiki/Deus_Ex_1st_Mission:_Liberty_Island'} \n",
      "\n",
      "{'Header 2': 'Detailed walkthrough[]', 'Header 3': 'UNATCO Headquarters exterior[]', 'url': 'https://deusex.fandom.com/wiki/Deus_Ex_1st_Mission:_Liberty_Island'} \n",
      "\n",
      "{'Header 2': 'Detailed walkthrough[]', 'Header 3': 'Storage bunker[]', 'url': 'https://deusex.fandom.com/wiki/Deus_Ex_1st_Mission:_Liberty_Island'} \n",
      "\n",
      "{'Header 2': 'Detailed walkthrough[]', 'Header 3': 'North dock[]', 'url': 'https://deusex.fandom.com/wiki/Deus_Ex_1st_Mission:_Liberty_Island'} \n",
      "\n",
      "{'Header 2': 'Detailed walkthrough[]', 'Header 3': 'Entering the Statue of Liberty compound[]', 'url': 'https://deusex.fandom.com/wiki/Deus_Ex_1st_Mission:_Liberty_Island'} \n",
      "\n",
      "{'Header 2': 'Detailed walkthrough[]', 'Header 3': 'Inside the Statue[]', 'url': 'https://deusex.fandom.com/wiki/Deus_Ex_1st_Mission:_Liberty_Island'} \n",
      "\n",
      "{'Header 2': 'Detailed walkthrough[]', 'Header 3': 'UNATCO HQ[]', 'url': 'https://deusex.fandom.com/wiki/Deus_Ex_1st_Mission:_Liberty_Island'} \n",
      "\n",
      "{'Header 2': 'Detailed walkthrough[]', 'Header 3': 'Notes[]', 'url': 'https://deusex.fandom.com/wiki/Deus_Ex_1st_Mission:_Liberty_Island'} \n",
      "\n",
      "{'url': 'https://deusex.fandom.com/wiki/Deus_Ex_1st_Mission:_Liberty_Island'} \n",
      "\n",
      "{'Header 2': 'Fan Feed', 'url': 'https://deusex.fandom.com/wiki/Deus_Ex_1st_Mission:_Liberty_Island'} \n",
      "\n",
      "{'url': 'https://deusex.fandom.com/wiki/Deus_Ex_1st_Mission:_Liberty_Island'} \n",
      "\n",
      "{'Header 2': '', 'Header 3': 'Explore properties', 'url': 'https://deusex.fandom.com/wiki/Deus_Ex_1st_Mission:_Liberty_Island'} \n",
      "\n",
      "{'url': 'https://deusex.fandom.com/wiki/Deus_Ex_1st_Mission:_Liberty_Island'} \n",
      "\n",
      "{'Header 3': 'Overview', 'url': 'https://deusex.fandom.com/wiki/Deus_Ex_1st_Mission:_Liberty_Island'} \n",
      "\n",
      "{'url': 'https://deusex.fandom.com/wiki/Deus_Ex_1st_Mission:_Liberty_Island'} \n",
      "\n",
      "{'Header 3': 'Community', 'url': 'https://deusex.fandom.com/wiki/Deus_Ex_1st_Mission:_Liberty_Island'} \n",
      "\n",
      "{'Header 3': 'Advertise', 'url': 'https://deusex.fandom.com/wiki/Deus_Ex_1st_Mission:_Liberty_Island'} \n",
      "\n",
      "{'url': 'https://deusex.fandom.com/wiki/Deus_Ex_1st_Mission:_Liberty_Island'} \n",
      "\n"
     ]
    }
   ],
   "source": [
    "for doc in docs:\n",
    "    if doc.metadata:\n",
    "        print(doc.metadata, \"\\n\")"
   ]
  },
  {
   "cell_type": "code",
   "execution_count": 26,
   "id": "e0e740a4-398d-4062-8ffb-e00828a58f37",
   "metadata": {},
   "outputs": [],
   "source": [
    "# Create embeddings and store in vector database\n",
    "embeddings = OpenAIEmbeddings(model=\"text-embedding-3-large\")\n",
    "vectorstore = Chroma.from_documents(docs, embeddings, persist_directory = \"./vectorstore\")"
   ]
  },
  {
   "cell_type": "code",
   "execution_count": 23,
   "id": "bfd59cee-ccf5-446c-8232-3c03d41ac7dd",
   "metadata": {},
   "outputs": [],
   "source": [
    "vectorstore2 = Chroma(persist_directory=\"./vectorstore\", embedding_function=embeddings)"
   ]
  },
  {
   "cell_type": "code",
   "execution_count": 24,
   "id": "26f4df1e-2d19-4953-8135-221a7679c032",
   "metadata": {},
   "outputs": [],
   "source": [
    "# Function to query the database\n",
    "def query_database(query: str, k: int = 1):\n",
    "    matching_docs = vectorstore2.similarity_search(query, k=k)\n",
    "    return matching_docs if matching_docs else []"
   ]
  },
  {
   "cell_type": "code",
   "execution_count": 25,
   "id": "751a314f-3156-4bd7-8a91-4f2ac09c209e",
   "metadata": {},
   "outputs": [
    {
     "data": {
      "text/plain": [
       "[Document(metadata={'Header 2': 'Detailed walkthrough[]', 'Header 3': 'South Dock[]', 'url': 'https://deusex.fandom.com/wiki/Deus_Ex_1st_Mission:_Liberty_Island'}, page_content='You begin on the south pier of Liberty Island, equipped only with a Pistol, a Riot Prod, and a Medkit. Alex Jacobson messages you through your infolink and tells you that your brother, Paul Denton, is on his way to meet you on the pier. Move forward and you\\'ll see a figure in a trench coat heading towards your direction. This is Paul, and a conversation will trigger as soon as he\\'s near you.  \\nPaul tells you that the NSF terrorist group has taken over the statue and has taken Gunther Hermann, one of UNATCO\\'s top agents, hostage. Paul offers you to choose one additional weapon for the mission: a sniper rifle, a GEP gun, or a mini-crossbow. Each weapon suits very different tactics. However, the GEP gun is the only weapon that is not otherwise obtainable on this mission. A sniper rifle can be found on an NSF member near the front entrance. NSF members will also carry mini-crossbows.  \\nOnce you\\'re armed, Paul informs you that your primary objective is to locate and interrogate the NSF commander, who is probably at the makeshift command center at the top of the statue. Now, look for a crowbar among a stack of crates on the right-hand side of the pier and pick it up. Use it to smash the two nearby wooden crates, in which you\\'ll find a pair of binoculars and a lockpick.  \\nGo down the staircase on the left into the water to find a broken shark cage. Inside the shark cage are two other wooden crates. Smash them both to find a multitool and a bioelectric cell, and climb back out. You can talk to Corporal Collins, who gives you more information on Gunther. You can also talk to Paul two more times to uncover additional information. Keep heading down the dock to find some more wooden crates in the corner. Destroy all of them in order to find 10mm Ammo, a Prod Charger, and some Darts.  \\nAfterwards, proceed up the ramp and take a look around.\\xa0There is a\\xa0baton\\xa0that\\'s on the body of a UNATCO soldier at your feet.\\xa0Alex will transmit to you a map of the island, so take a look at this to plan your approach. Two guards patrol this area, so either avoid them or get their attention so they will chase you down onto the docks to be eliminated by a friendly Security Bot. These two guards will carry 10mm Ammo and a Combat Knife, which is standard for most of the NSF enemies.  \\nOnce both guards are down, head left after the ramp and look for a small metal crate in a storage area. This storage area is to the immediate northwest of the ramp from the south dock. Take the crate and place it next to the large stack of crates left of the path. Jump on top and smash the wooden crate to find a gas grenade. At the storage area, there\\'s an locked panel labeled \"U.N.A.T.C.O. Medlab\" that houses three medbots. The panel is locked, but using a lockpick here is unnecessary. The panel can instead be opened using any one of crates of TNT to the east of the area. Pick up a TNT crate, and either throw it at the panel up close, or position the TNT crate near the panel and shoot it with your pistol. The unlocked medbots can be used to restore your health whenever you\\'re injured. Keep going down the main path - there are two guards ahead, you can either kill them now or sneak past them to deal with them later. Turn left to arrive at the exterior of the UNATCO HQ.'),\n",
       " Document(metadata={'Header 2': '1st Mission', 'Header 3': 'Location', 'url': 'https://deusex.fandom.com/wiki/Deus_Ex_1st_Mission:_Liberty_Island'}, page_content='Liberty Island and UNATCO Headquarters'),\n",
       " Document(metadata={'Header 2': 'Brief walkthrough[]', 'url': 'https://deusex.fandom.com/wiki/Deus_Ex_1st_Mission:_Liberty_Island'}, page_content=\"The mission begins at the south dock. Speak with Paul Denton, who offers you a choice among three weapons. The GEP gun is likely the best choice because it is useful for destroying turrets, robots, and locked doors, and cannot otherwise be obtained until the third mission. The other two weapons that you may choose from (the sniper rifle and mini-crossbow) can be looted from nearby enemies in this mission.  \\nHead to the north dock to meet with Harley Filben to complete the first secondary objective. If you promise Harley that you will not kill the NSF commander, he will provide the key to the front door of the Statue of Liberty complex.  \\nThe front door is only one of two ways to get into the statue complex. The alternative method is to climb a stack of crates at the back (east) side. Once inside, complete the other secondary objective by freeing Gunther Hermann, who is being held on the lobby level (bottom level) of the compound. Then, to complete the primary goal, head to the top level of the statue to interrogate the NSF commander Leo Gold. Choosing the second dialogue option will cause him to surrender without becoming hostile. The first augmentation canister of the game is found near the NSF commander. At this point, UNATCO will take over the entire island, neutralizing any remaining hostiles.  \\nThree areas in the periphery of the statue provide exploration bonuses as well as loot:  \\nThe satellite communication (SATCOM) compound near the UNATCO Headquarters – Enter the shed (code 0451) and the locked antenna shaft nearby to receive the exploration bonuses. A sunken boat at the north dock – Two weapon modifications and a sawed-off shotgun can be found inside breakable crates inside the boat. A storage bunker to the east of the statue – Crossing the electrical hazard inside the bunker will reward you a large exploration bonus, as well as two weapon modifications.  \\nThe second part of the mission takes place in UNATCO's underground facility, where you are introduced to your boss, Joseph Manderley, and other UNATCO personnel. The medical bot in the medical bay can be used to heal your injuries and install the augmentation canister. The mission ends when you return to the south dock to board the boat for Battery Park. Once you leave for Battery Park, you will not be able to explore Liberty Island again.\")]"
      ]
     },
     "execution_count": 25,
     "metadata": {},
     "output_type": "execute_result"
    }
   ],
   "source": [
    "# Example usage\n",
    "query_database(\"When do I talk to my brother on liberty island?\", 3)"
   ]
  },
  {
   "cell_type": "code",
   "execution_count": 12,
   "id": "7fc9f7ea-f583-492b-b901-8683256735f5",
   "metadata": {},
   "outputs": [],
   "source": [
    "from openai import OpenAI\n",
    "\n",
    "client = OpenAI()"
   ]
  },
  {
   "cell_type": "code",
   "execution_count": 13,
   "id": "d9a3d49c-8095-4d02-8fe2-bcddf0313ee7",
   "metadata": {},
   "outputs": [],
   "source": [
    "def create_prompt(retrieved_content, user_question):\n",
    "    prompt = f\"Context:\\n{retrieved_content}\\n\\nQuestion: {user_question}\\n\\nAnswer:\"\n",
    "    print(\"Retrieved content: \", retrieved_content, \"-------------- \\n\\n\")\n",
    "    return prompt"
   ]
  },
  {
   "cell_type": "code",
   "execution_count": 14,
   "id": "1e2d0144-90a0-4a1d-b8d2-1654c0746648",
   "metadata": {},
   "outputs": [],
   "source": [
    "def chat_with_gpt(prompt):\n",
    "    response = client.chat.completions.create(\n",
    "        model=\"gpt-4o-mini\",\n",
    "        messages=[\n",
    "            {\"role\": \"system\", \"content\": \"You are an assistant helping with questions about a specific mission. Use the provided context to answer questions. Provide detailed instructions to guide the player.\"},\n",
    "            {\"role\": \"user\", \"content\": prompt}\n",
    "        ]\n",
    "    )\n",
    "    return response.choices[0].message.content"
   ]
  },
  {
   "cell_type": "code",
   "execution_count": 15,
   "id": "50a5ed98-efd7-49e9-89bf-28be543cfa68",
   "metadata": {},
   "outputs": [],
   "source": [
    "def mission_qa(user_question):\n",
    "    # Perform similarity search\n",
    "    relevant_docs = query_database(user_question, k=2)  # Adjust k as needed\n",
    "    \n",
    "    # Construct context from relevant documents\n",
    "    context = \"\\n\".join([doc.page_content for doc in relevant_docs])\n",
    "    \n",
    "    # Create prompt and get response\n",
    "    prompt = create_prompt(context, user_question)\n",
    "    response = chat_with_gpt(prompt)\n",
    "    \n",
    "    return response"
   ]
  },
  {
   "cell_type": "code",
   "execution_count": 16,
   "id": "90c173b0-7d4c-436f-9eea-1c4930c45fcd",
   "metadata": {},
   "outputs": [
    {
     "name": "stdout",
     "output_type": "stream",
     "text": [
      "Retrieved content:  At the entrance you'll find Tech Sergeant Kaplan, who triggers a conversation with you. You'll have to make a choice halfway through. Your choice will have a small effect: if you choose the first one, he'll give you the code (0451) to the shed next to the helipad, but he won't give you the code if you select the second option. Afterward, he'll offer you some hardware: a Scope for 700 credits, some 10mm Ammo for 200 credits, or some Tranquilizer Darts for 60 credits. Buy the darts if you're going for a pacifist playthrough, or 10mm if you are going for regular playthrough. At the beginning, you won't have enough credits for the scope, but you can still buy it from him anytime before leaving Liberty Island for the next mission.  \n",
      "When you're done talking to Kaplan, approach the green shed next to the helipad to find a Crowbar and a wooden crate which contains a multitool. There's also a wooden crate that has a Lockpick inside that's behind the shed. A key for the UNATCO Compound Hatch is located in a small gap between the shed and the fence to the right of the lockpick crate. Punch in the code 0451 to open the door to find a Medkit on top of the machines and Tranquilizer Darts on the table. Underneath the table is a datacube which contains the information for the security terminal on the wall (login: SATCOM, password: UNATCO_001). Use the security terminal and use the information (or hack it) in order to unlock the nearby access door to the antenna shaft. Alternatively, the antenna shaft can be accessed using the NanoKey found behind the shed. Entering the shed and antenna shaft will grant you an exploration bonus.  \n",
      "Go back outside and into the access door to find a wooden crate which contains an EMP grenade. Exit the UNATCO HQ and head back to the main path. From here, there are multiple ways to get into the statue.  \n",
      "If you haven't already, eliminate the two guards patrolling the area. The nearest guard carries a Mini-Crossbow equipped with tranquilizer darts. This weapon's sedative effect doesn't affect your movement or coordination but does damage you and it takes a short while to wear off after the initial injury. After he's down, you can search his body for the crossbow. Now, take care of the other guard who's not too far away; he carries the standard loadout: some 10mm Ammo and a Knife.  \n",
      "The datacube. The Statue's Front Entrance is behind.  \n",
      "On top of the nearby container, you'll notice a datacube, a Prod Charger, and a Pepper Spray Cartridge. Read the datacube to find out that the login is NSF001 and the password smashthestate. From here, you can head in two directions: Straight ahead, to the front entrance of the statue complex, or right, to circle around it.\n",
      "The compound can be entered through either the front entrance or the rear entrance.  \n",
      "Going in the front way, though straightforward, has its hazards. A wheeled Security Bot patrols the area immediately in front of the statue, and there are also three or four terrorists nearby, one of which is especially dangerous as he is armed with a sniper rifle.  \n",
      "Exit the northern docks and head East, following the same path you took before. If you took the GEP Gun at the beginning, use it to destroy the bot from a distance (hold the crosshair over the target until the weapon beeps continuously, signaling that it is locked on, and then fire). Preferably, engage the bot when it is patrolling on the south side of its route to minimize the chance that the nearby terrorists will hear the explosion. Once the bot is taken care of, either neutralize the remaining terrorists or simply avoid them. There is a room in the center of this area with a locked chest containing ammo and a credit chit. If you go back to the right of the dock you started from and pick up one of the crates of TNT then you can throw it at the bot as it passes in front of the room with the chest. This will destroy the bot and open the chest. It will also damage your legs and draw the attention of any remaining enemies so some care is needed. If you are being chased, you can run back to UNATCO HQ or the dock to get some assistance killing the enemies. Then, you can go to the medbot to heal if necessary.   \n",
      "Head for the front doors. They're locked and the camera will set off the alarm if you stand in front of it, so stay out of its line of sight and move up to the security computer to the left of the doors. Log into it with the login and password you found in the datacube (NSF001/smashthestate) and turn off the camera and unlock the doors. Smash the crate nearby for a Lockpick and enter the lobby.  If you draw attention, run out again and the turret will attack anyone who follows you.  \n",
      "Climb back onto the dock and make your way back to the storage facility and the huge piles of crates and containers nearby. Climb the containers, using the ladders and small metal crates, and climb over the wall onto the outside of the statue complex. There are two guards patrolling to the south, you can engage them if you like but it's easier to avoid them. From here, go west until you run into another guard. Dispatch him, but watch out. There are two around the corner. You may want to lure them around the corner and then shoot the box of TNT as they pass it, but this is difficult to do reliably unless you invested most of your skills in pistol marksmanship. Once they're out of the way follow the two ramps up to the tower. Watch out, three of the four passages here are booby-trapped with gas grenades. Move in quickly and right click on them to defuse them before they go off - just like in training. Once that's done, quietly move into the center and listen as the two thugs nearby talk about \"the shipment.\" You can dispatch them if you wish, but as long as you keep crouched and stay behind them you can just ignore them. Head downstairs, ignore the patrolling guard, and continue downwards in to the lobby. Behind the corner on the right is a security camera and a crate containing a lockpick. You can either disable the camera or evade it if you are quick enough. Take note of the gun turret on the roof, which will activate if an alarm is tripped. -------------- \n",
      "\n",
      "\n",
      "Response:  To get into the statue, you have two main options: you can enter through the front entrance or the rear entrance. Here’s a detailed guide for both approaches:\n",
      "\n",
      "### Front Entrance:\n",
      "1. **Patrolling Bot and Guards**: The front entrance is straightforward but contains a few hazards. There’s a wheeled Security Bot patrolling the immediate area and several terrorists nearby, including one armed with a sniper rifle.\n",
      "   \n",
      "2. **Remove the Bot**: If you have the GEP Gun from the beginning of the mission, use it to destroy the bot from a distance. Make sure to engage it when it’s on the south side of its route to prevent any nearby terrorists from noticing.\n",
      "\n",
      "3. **Deal with the Terrorists**: Once the bot is taken care of, you can either neutralize the remaining terrorists or sneak past them. Be aware of the room nearby containing a locked chest with ammo and a credit chit.\n",
      "\n",
      "4. **Access Security Computer**: The front doors are locked, and a security camera will trigger an alarm if you get too close. Instead, go to the security computer to the left of the doors. Log in with the credentials from the datacube (login: NSF001, password: smashthestate), then turn off the camera and unlock the doors.\n",
      "\n",
      "5. **Enter the Lobby**: Carefully enter the lobby. If you attract attention, you can run out again, and the turret will attack anyone who follows.\n",
      "\n",
      "### Rear Entrance:\n",
      "1. **Climb and Avoid Patrols**: You can reach the back of the statue complex by climbing on top of crates and containers. This route allows you to avoid most of the guards.\n",
      "\n",
      "2. **Navigating Guards**: As you approach, there are two guards patrolling the area to the south. You can engage them or sneak past, depending on your style and skill level.\n",
      "\n",
      "3. **Reach the Tower**: Follow the ramps up to the tower. Be cautious as three of the four passages are booby-trapped with gas grenades. Move quickly to defuse these traps.\n",
      "\n",
      "4. **Listen or Dispatch Thugs**: Inside the tower, listen to the thugs discussing \"the shipment.\" You have the option to confront them or just stay hidden and move on.\n",
      "\n",
      "5. **Proceed to the Lobby**: Ignore additional patrolling guards and move downstairs to the lobby. Watch out for a security camera, and either disable it or avoid detection.\n",
      "\n",
      "### Tips:\n",
      "- **Front Entrance**: It’s more direct but has higher risks due to the security bot and armed terrorists.\n",
      "- **Rear Entrance**: It’s stealthier and allows for avoiding direct confrontations, but you still need to be vigilant about the guards.\n",
      "\n",
      "Ultimately, the choice depends on your preferred playstyle—going for a stealthy approach or a more action-oriented one. If you’re aiming for a pacifist playthrough, consider the rear entrance as it gives you more opportunities to avoid conflict.\n"
     ]
    }
   ],
   "source": [
    "# Example usage\n",
    "question = \"How do I get into the statue? Should I go through the front or the back?\"\n",
    "answer = mission_qa(question)\n",
    "print(\"Response: \", answer)"
   ]
  },
  {
   "cell_type": "code",
   "execution_count": null,
   "id": "560dd5a2-aec2-4149-811a-0b982b529304",
   "metadata": {},
   "outputs": [],
   "source": []
  }
 ],
 "metadata": {
  "kernelspec": {
   "display_name": "python39env",
   "language": "python",
   "name": "python39env"
  },
  "language_info": {
   "codemirror_mode": {
    "name": "ipython",
    "version": 3
   },
   "file_extension": ".py",
   "mimetype": "text/x-python",
   "name": "python",
   "nbconvert_exporter": "python",
   "pygments_lexer": "ipython3",
   "version": "3.9.19"
  }
 },
 "nbformat": 4,
 "nbformat_minor": 5
}
