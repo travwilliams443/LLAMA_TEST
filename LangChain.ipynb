{
 "cells": [
  {
   "cell_type": "code",
   "execution_count": 12,
   "id": "46fe014e-109e-4596-93c2-0ab18e5677f6",
   "metadata": {},
   "outputs": [],
   "source": [
    "from langchain.document_loaders import UnstructuredURLLoader\n",
    "from langchain.text_splitter import RecursiveCharacterTextSplitter\n",
    "from langchain.embeddings import OpenAIEmbeddings\n",
    "from langchain.vectorstores import Chroma"
   ]
  },
  {
   "cell_type": "code",
   "execution_count": 25,
   "id": "ff1fddab-da56-43ba-bdd2-ddddb89f95e2",
   "metadata": {},
   "outputs": [],
   "source": [
    "# List of URLs to scrape\n",
    "urls = [\n",
    "    \"https://deusex.fandom.com/wiki/Deus_Ex_1st_Mission:_Liberty_Island\",\n",
    "    \"https://deusex.fandom.com/wiki/Deus_Ex_2nd_Mission:_Battery_Park,_Hell%27s_Kitchen,_and_Warehouse_District\",\n",
    "    \"https://deusex.fandom.com/wiki/Deus_Ex_3rd_Mission:_Brooklyn_Bridge_Station,_Mole_Tunnels,_and_LaGuardia_Airport\",\n",
    "    \"https://deusex.fandom.com/wiki/Deus_Ex_4th_Mission:_Hell%27s_Kitchen_(Second_Visit)_and_NSF_Headquarters\",\n",
    "    \"https://deusex.fandom.com/wiki/Deus_Ex_5th_Mission:_Secret_MJ12_Facility_and_UNATCO_Headquarters\",\n",
    "    \"https://deusex.fandom.com/wiki/Deus_Ex_6th_Mission:_Hong_Kong\"\n",
    "]"
   ]
  },
  {
   "cell_type": "code",
   "execution_count": 26,
   "id": "c856dc84-a2f4-4a63-b51e-18379019a483",
   "metadata": {},
   "outputs": [],
   "source": [
    "# Load the content\n",
    "loader = UnstructuredURLLoader(urls=urls, remove_selectors=[\"nav\", \"header\", \"footer\"])\n",
    "data = loader.load()"
   ]
  },
  {
   "cell_type": "code",
   "execution_count": 75,
   "id": "16bee894-db9c-4315-a533-d8326aa77c7a",
   "metadata": {},
   "outputs": [],
   "source": [
    "# Process the content\n",
    "text_splitter = RecursiveCharacterTextSplitter(chunk_size=5000, chunk_overlap=500)\n",
    "texts = text_splitter.split_documents(data)"
   ]
  },
  {
   "cell_type": "code",
   "execution_count": 76,
   "id": "e0e740a4-398d-4062-8ffb-e00828a58f37",
   "metadata": {},
   "outputs": [],
   "source": [
    "# Create embeddings and store in vector database\n",
    "embeddings = OpenAIEmbeddings(model=\"text-embedding-3-small\")\n",
    "vectorstore = Chroma.from_documents(texts, embeddings)"
   ]
  },
  {
   "cell_type": "code",
   "execution_count": 79,
   "id": "26f4df1e-2d19-4953-8135-221a7679c032",
   "metadata": {},
   "outputs": [],
   "source": [
    "# Function to query the database\n",
    "def query_database(query: str, k: int = 2):\n",
    "    matching_docs = vectorstore.similarity_search(query, k=k)\n",
    "    for doc in matching_docs:\n",
    "        print(f\"Content: {doc.page_content}...\")\n",
    "        print(f\"Source URL: {doc.metadata['source']}\")\n",
    "        print(f\"Other metadata: {doc.metadata}\")\n",
    "        print(\"---\")"
   ]
  },
  {
   "cell_type": "code",
   "execution_count": 80,
   "id": "751a314f-3156-4bd7-8a91-4f2ac09c209e",
   "metadata": {},
   "outputs": [
    {
     "name": "stdout",
     "output_type": "stream",
     "text": [
      "Content: In Chow's penthouse, there's a lantern switch that opens a direct passage to the MJ12 quarters.\n",
      "\n",
      "In the lobby of Queen's Tower, there's a second elevator (keypad code 3444) that leads to an empty floor where a junkie is encountered. On this floor, there is a locked fence that leads to the MJ12 quarters.\n",
      "\n",
      "On the right exterior side of the Queen's Tower (where a robot is patrolling), there is a locked fence. Open the fence to access the elevator shaft of the penthouse elevator. Activate the keypad (code 1709) to the roof area, gaining an exploration bonus once you reach the top portion of the shaft. You can then enter the MJ12 quarters from the roof via a door locked by a keypad....\n",
      "Source URL: https://deusex.fandom.com/wiki/Deus_Ex_6th_Mission:_Hong_Kong\n",
      "Other metadata: {'source': 'https://deusex.fandom.com/wiki/Deus_Ex_6th_Mission:_Hong_Kong'}\n",
      "---\n",
      "Content: In Chow's penthouse, there's a lantern switch that opens a direct passage to the MJ12 quarters.\n",
      "\n",
      "In the lobby of Queen's Tower, there's a second elevator (keypad code 3444) that leads to an empty floor where a junkie is encountered. On this floor, there is a locked fence that leads to the MJ12 quarters.\n",
      "\n",
      "On the right exterior side of the Queen's Tower (where a robot is patrolling), there is a locked fence. Open the fence to access the elevator shaft of the penthouse elevator. Activate the keypad (code 1709) to the roof area, gaining an exploration bonus once you reach the top portion of the shaft. You can then enter the MJ12 quarters from the roof via a door locked by a keypad....\n",
      "Source URL: https://deusex.fandom.com/wiki/Deus_Ex_6th_Mission:_Hong_Kong\n",
      "Other metadata: {'source': 'https://deusex.fandom.com/wiki/Deus_Ex_6th_Mission:_Hong_Kong'}\n",
      "---\n"
     ]
    }
   ],
   "source": [
    "# Example usage\n",
    "query_database(\"What is in the MJ12 place?\")"
   ]
  },
  {
   "cell_type": "code",
   "execution_count": null,
   "id": "650fd9e1-b042-4a31-bc8f-eed45ef7e13d",
   "metadata": {},
   "outputs": [],
   "source": []
  },
  {
   "cell_type": "code",
   "execution_count": null,
   "id": "560dd5a2-aec2-4149-811a-0b982b529304",
   "metadata": {},
   "outputs": [],
   "source": []
  }
 ],
 "metadata": {
  "kernelspec": {
   "display_name": "Python 3.9 (python39)",
   "language": "python",
   "name": "python39"
  },
  "language_info": {
   "codemirror_mode": {
    "name": "ipython",
    "version": 3
   },
   "file_extension": ".py",
   "mimetype": "text/x-python",
   "name": "python",
   "nbconvert_exporter": "python",
   "pygments_lexer": "ipython3",
   "version": "3.9.19"
  }
 },
 "nbformat": 4,
 "nbformat_minor": 5
}
