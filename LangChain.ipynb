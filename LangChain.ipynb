{
 "cells": [
  {
   "cell_type": "code",
   "execution_count": 1,
   "id": "46fe014e-109e-4596-93c2-0ab18e5677f6",
   "metadata": {},
   "outputs": [],
   "source": [
    "from langchain.document_loaders import UnstructuredURLLoader\n",
    "from langchain.text_splitter import RecursiveCharacterTextSplitter\n",
    "from langchain.embeddings import OpenAIEmbeddings\n",
    "from langchain.vectorstores import Chroma"
   ]
  },
  {
   "cell_type": "code",
   "execution_count": 2,
   "id": "ff1fddab-da56-43ba-bdd2-ddddb89f95e2",
   "metadata": {},
   "outputs": [],
   "source": [
    "# List of URLs to scrape\n",
    "urls = [\n",
    "    \"https://deusex.fandom.com/wiki/Deus_Ex_1st_Mission:_Liberty_Island\",\n",
    "    \"https://deusex.fandom.com/wiki/Deus_Ex_2nd_Mission:_Battery_Park,_Hell%27s_Kitchen,_and_Warehouse_District\",\n",
    "    \"https://deusex.fandom.com/wiki/Deus_Ex_3rd_Mission:_Brooklyn_Bridge_Station,_Mole_Tunnels,_and_LaGuardia_Airport\",\n",
    "    \"https://deusex.fandom.com/wiki/Deus_Ex_4th_Mission:_Hell%27s_Kitchen_(Second_Visit)_and_NSF_Headquarters\",\n",
    "    \"https://deusex.fandom.com/wiki/Deus_Ex_5th_Mission:_Secret_MJ12_Facility_and_UNATCO_Headquarters\",\n",
    "    \"https://deusex.fandom.com/wiki/Deus_Ex_6th_Mission:_Hong_Kong\"\n",
    "]"
   ]
  },
  {
   "cell_type": "code",
   "execution_count": 3,
   "id": "c856dc84-a2f4-4a63-b51e-18379019a483",
   "metadata": {},
   "outputs": [],
   "source": [
    "# Load the content\n",
    "loader = UnstructuredURLLoader(urls=urls, remove_selectors=[\"nav\", \"header\", \"footer\"])\n",
    "data = loader.load()"
   ]
  },
  {
   "cell_type": "code",
   "execution_count": 11,
   "id": "16bee894-db9c-4315-a533-d8326aa77c7a",
   "metadata": {},
   "outputs": [],
   "source": [
    "# Process the content\n",
    "text_splitter = RecursiveCharacterTextSplitter(chunk_size=1000, chunk_overlap=200)\n",
    "texts = text_splitter.split_documents(data)"
   ]
  },
  {
   "cell_type": "code",
   "execution_count": 12,
   "id": "e0e740a4-398d-4062-8ffb-e00828a58f37",
   "metadata": {
    "scrolled": true
   },
   "outputs": [],
   "source": [
    "# Create embeddings and store in vector database\n",
    "embeddings = OpenAIEmbeddings(model=\"text-embedding-3-small\")\n",
    "vectorstore = Chroma.from_documents(texts, embeddings)"
   ]
  },
  {
   "cell_type": "code",
   "execution_count": 13,
   "id": "26f4df1e-2d19-4953-8135-221a7679c032",
   "metadata": {},
   "outputs": [],
   "source": [
    "# Function to query the database\n",
    "def query_database(query: str, k: int = 2):\n",
    "    matching_docs = vectorstore.similarity_search(query, k=k)\n",
    "    for doc in matching_docs:\n",
    "        print(f\"Content: {doc.page_content}...\")\n",
    "        print(f\"Source URL: {doc.metadata['source']}\")\n",
    "        print(f\"Other metadata: {doc.metadata}\")\n",
    "        print(\"---\")"
   ]
  },
  {
   "cell_type": "code",
   "execution_count": 19,
   "id": "751a314f-3156-4bd7-8a91-4f2ac09c209e",
   "metadata": {},
   "outputs": [
    {
     "name": "stdout",
     "output_type": "stream",
     "text": [
      "Content: Speak to Lebedev, who surrenders and tells JC Denton more about the conspiracy. Lebedev tells JC that he was created by a secret organization crazed for power, and that the same corporation that manufactures Ambrosia also created the Plague. At this point, Anna Navarre will require that you kill Lebedev, as ordered, or she will kill Lebedev herself. The options are: kill Lebedev, allow Anna to kill Lebedev, or kill Anna.\n",
      "\n",
      "If you kill Lebedev, you will earn no bonus skill points. However, Manderley will be pleased with your actions.\n",
      "\n",
      "If you allow Anna to kill Lebedev, you will earn 175 skill points.\n",
      "\n",
      "If you kill Anna and Lebedev does not die, you will earn 200 skill points when you speak to Lebedev again. Lebedev will then tell you more about the conspiracy, and will name the organization behind it all, Majestic 12, a group powerful enough to control the United Nations....\n",
      "Source URL: https://deusex.fandom.com/wiki/Deus_Ex_3rd_Mission:_Brooklyn_Bridge_Station,_Mole_Tunnels,_and_LaGuardia_Airport\n",
      "Other metadata: {'source': 'https://deusex.fandom.com/wiki/Deus_Ex_3rd_Mission:_Brooklyn_Bridge_Station,_Mole_Tunnels,_and_LaGuardia_Airport'}\n",
      "---\n",
      "Content: If you kill Lebedev, you will earn no bonus skill points. However, Manderley will be pleased with your actions.\n",
      "\n",
      "If you allow Anna to kill Lebedev, you will earn 175 skill points.\n",
      "\n",
      "If you kill Anna and Lebedev does not die, you will earn 200 skill points when you speak to Lebedev again. Lebedev will then tell you more about the conspiracy, and will name the organization behind it all, Majestic 12, a group powerful enough to control the United Nations.\n",
      "\n",
      "Afterwards, UNATCO will take over the airfield and disable all defenses, allowing you to pick up any loot that you left behind. Head to Jock's helicopter to complete the mission.\n",
      "\n",
      "Notes[]\n",
      "\n",
      "After arriving at the surface of the airfield, the player is not intended to be able to travel back to the helibase. However, it is nonetheless possible to do so via the sewer route by using the grenade climbing exploit, i.e., planting LAMs or other grenades on the vertically sloped section of the sewers passage and jumping on the planted grenades in order to return to the section that contains the travel point back to the helibase map. Note that it is not possible to return to the helibase via the elevator.\n",
      "\n",
      "Categories\n",
      "\n",
      "Languages\n",
      "\n",
      "Русский\n",
      "\n",
      "Community content is available under CC-BY-SA unless otherwise noted.\n",
      "\n",
      "More Fandoms\n",
      "\n",
      "Sci-fi...\n",
      "Source URL: https://deusex.fandom.com/wiki/Deus_Ex_3rd_Mission:_Brooklyn_Bridge_Station,_Mole_Tunnels,_and_LaGuardia_Airport\n",
      "Other metadata: {'source': 'https://deusex.fandom.com/wiki/Deus_Ex_3rd_Mission:_Brooklyn_Bridge_Station,_Mole_Tunnels,_and_LaGuardia_Airport'}\n",
      "---\n"
     ]
    }
   ],
   "source": [
    "# Example usage\n",
    "query_database(\"Where do I find Lebedev?\")"
   ]
  },
  {
   "cell_type": "code",
   "execution_count": null,
   "id": "650fd9e1-b042-4a31-bc8f-eed45ef7e13d",
   "metadata": {},
   "outputs": [],
   "source": []
  },
  {
   "cell_type": "code",
   "execution_count": null,
   "id": "560dd5a2-aec2-4149-811a-0b982b529304",
   "metadata": {},
   "outputs": [],
   "source": []
  }
 ],
 "metadata": {
  "kernelspec": {
   "display_name": "python39env",
   "language": "python",
   "name": "python39env"
  },
  "language_info": {
   "codemirror_mode": {
    "name": "ipython",
    "version": 3
   },
   "file_extension": ".py",
   "mimetype": "text/x-python",
   "name": "python",
   "nbconvert_exporter": "python",
   "pygments_lexer": "ipython3",
   "version": "3.9.19"
  }
 },
 "nbformat": 4,
 "nbformat_minor": 5
}
